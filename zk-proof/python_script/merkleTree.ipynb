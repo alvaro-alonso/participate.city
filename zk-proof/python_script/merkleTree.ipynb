{
 "cells": [
  {
   "cell_type": "code",
   "execution_count": 2,
   "metadata": {},
   "outputs": [],
   "source": [
    "import hashlib\n",
    "import json\n",
    "from bitarray import bitarray\n",
    "from Cryptodome.Util import number\n",
    "from merklelib import MerkleTree, beautify\n",
    "\n",
    "\n",
    "# a sample hash function\n",
    "# you can also omit it and the default hash function will be used\n",
    "def split_in_128(value):\n",
    "    unpadded = list(str(bin(int(value, 16))[2:]))\n",
    "    padded = \"\".join(map(str, [0] * (256 - len(unpadded)) + unpadded))\n",
    "    value1, value2 = padded[:128], padded[128:]\n",
    "    return str(int(value1, 2)), str(int(value2, 2))\n",
    "\n",
    "def printhash(value):\n",
    "    print(f'''\n",
    "    {'-' * 20}\n",
    "    number: {value}\n",
    "    hexdigest: {hex(value)}\n",
    "    number size: {number.size(value)}\n",
    "    128 pairs: {split_in_128(value)}\n",
    "    ''')\n",
    "    \n",
    "def unpack256(value):\n",
    "    return (value).to_bytes(32, byteorder='big')\n",
    "\n",
    "def unpack512(value):\n",
    "    return (value).to_bytes(64, byteorder='big')\n",
    "\n",
    "def combine_128s(a, b):\n",
    "    return (a << 128) + b\n",
    "    \n",
    "def leafhash(lhs, rhs):\n",
    "    preimage = unpack256(lhs) +  unpack256(rhs)\n",
    "    hex_hash = hashlib.sha256(preimage).hexdigest()\n",
    "    hex_num = int(hex_hash,16)\n",
    "    printhash(hex_num)\n",
    "    return hex_num\n",
    "\n",
    "def treehash(lhs, rhs):\n",
    "    preimage = unpack512(lhs + rhs)\n",
    "    hex_hash = hashlib.sha256(preimage).hexdigest()\n",
    "    hex_num = int(hex_hash,16)\n",
    "    printhash(hex_num)\n",
    "    return hex_num\n",
    "\n",
    "def format_barray(barray):\n",
    "    barray_str = ''.join(barray)\n",
    "    hashnum = int(barray_str, 2)\n",
    "    printhash(hashnum)\n",
    "    return hashnum\n",
    "\n",
    "def digest_ecc_pairs(lhs, rhs):\n",
    "    return unpack256(int(lhs)) +  unpack256(int(rhs))\n",
    "\n",
    "def sha256(preimage):\n",
    "    return hashlib.sha256(preimage).hexdigest()\n",
    "    "
   ]
  },
  {
   "cell_type": "code",
   "execution_count": 3,
   "metadata": {},
   "outputs": [
    {
     "name": "stdout",
     "output_type": "stream",
     "text": [
      "f14565c7dd80ac11f353f8f0604f9efeb7f97b83b55234e0ca605f78525ea5f7\n",
      "├── 04de61902c4200c769971ef2d3c96506cc921ebcf24105b512cefe8258a70e9c\n",
      "│   ├── bdd7e02c1fe954e745f0398f21fde249f5e4454dd03668f035a0cd767dbc8c4b\n",
      "│   │   ├── 4e85663296292c64e054f6f8da5ee54b2d79d8772c9882376c5bb94286aba10f\n",
      "│   │   └── 8ea325a290710856f06108c7e46c9fd5bb0dad6a62327c38ee0ce666269d2659\n",
      "│   └── 4ff33dc3c98d1e096f04041b51e0433626e677c00c2b32c0d074c6588eb9e465\n",
      "│       ├── 53f0388af8ec86fa546b65aebe4863efb42e3e5bbd9caf8aa0443cbc36dc02c2\n",
      "│       └── 9e60fa4697d7539e2a805d360c36e91bc271a3b15dd24b675b575789846d6d70\n",
      "└── e9c53cfc6db50a755da26cce7c8e27e71bcd2841c3b879e3120707d6d525fb15\n",
      "    ├── f7d6098f02016c2f5072b0d295c6bd14c946adee4bb4a6e32163a6c46b3e8c2d\n",
      "    │   ├── d497b5967bb4990b1be3d1fed9fa8de7b35b224ee6986223458228e8d3a93922\n",
      "    │   └── 54b3f57fb918fe8c8c78db603f8d400f6b2e114e4a97139f4b920e6af9c3a813\n",
      "    └── 43490598e2eb4f0c0fb73ede5a049892a5d6873e5f340fc77f716aabbb36185b\n",
      "        ├── 249bb9ce597f41be6bffdfed53aac1b38e0d340cc8edd3bb08fa7b3bbbf16bb6\n",
      "        └── 66223f1697dfc88371195b0b4ba676b56a650bf8f1e79c1dfee8dc6367e8f01e\n"
     ]
    }
   ],
   "source": [
    "voters = json.load(open(\"../voters.json\", \"r\"))\n",
    "voters_pk = [sha256(digest_ecc_pairs(voter.get('point_x'), voter.get('point_y'))) for voter in voters ]\n",
    "tree = MerkleTree(voters_pk, sha256)\n",
    "root = tree.merkle_root\n",
    "beautify(tree)"
   ]
  },
  {
   "cell_type": "code",
   "execution_count": 15,
   "metadata": {},
   "outputs": [],
   "source": [
    "index = 1\n",
    "voter = voters[index]\n",
    "leaf_digest = ' '.join(split_in_128(voters_pk[index]))\n",
    "root_digest = ' '.join(split_in_128(root))\n",
    "pk = (voter.get('point_x'), voter.get('point_y'))\n",
    "sk = voter.get('privatekey')\n",
    "merkle_path = lambda x: ' '.join(list(str(bin((2**3) + x)))[3:][::-1])\n",
    "path = merkle_path(index)\n",
    "proof = tree.get_proof(voters_pk[index])\n",
    "proof.hex_nodes\n",
    "path_digest = ' '.join([ ' '.join(split_in_128(nodes)) for nodes in proof.hex_nodes])"
   ]
  },
  {
   "cell_type": "code",
   "execution_count": 16,
   "metadata": {},
   "outputs": [
    {
     "name": "stdout",
     "output_type": "stream",
     "text": [
      "zokrates compute-witness -a 320704279825729679887093372602058514174 244544110317801483749573555211254801911 10340591486849500411597554648864878801016182183377116661129044131080489564292 14567100831092071334990535999461575549871942024819092424591682457990310750003 127701493367712430457058180578738495689 1 0 0 123747805351608569425204621146108226363 39540705688767375067091866303177216241 104372431967068795421462059261922043211 60447918172631368468733595847163093263 106271992542486917466246087527104529206 51707320939605894415659374384260965477 310734242443042663156803883748285097959 36954393248979672587276171610885061397\n"
     ]
    }
   ],
   "source": [
    "print(f'zokrates compute-witness -a {root_digest} {pk[0]} {pk[1]} {sk} {path} {leaf_digest} {path_digest}')"
   ]
  },
  {
   "cell_type": "code",
   "execution_count": 6,
   "metadata": {},
   "outputs": [
    {
     "data": {
      "text/plain": [
       "'92b34907ec85874ab6faadaa1fd32b3e86c1211c8fb9350a8bf13bd5caf1ff29'"
      ]
     },
     "execution_count": 6,
     "metadata": {},
     "output_type": "execute_result"
    }
   ],
   "source": [
    "y = sha256(digest_ecc_pairs('19510076639286324373897420360096365090640882341900164882210954095146741092293', '8949781301061640769592652182028272879867087978866630439801287750411451384681'))\n",
    "y"
   ]
  },
  {
   "cell_type": "code",
   "execution_count": 7,
   "metadata": {},
   "outputs": [
    {
     "ename": "TypeError",
     "evalue": "Unicode-objects must be encoded before hashing",
     "output_type": "error",
     "traceback": [
      "\u001b[0;31m---------------------------------------------------------------------------\u001b[0m",
      "\u001b[0;31mTypeError\u001b[0m                                 Traceback (most recent call last)",
      "\u001b[0;32m<ipython-input-7-2672282c6145>\u001b[0m in \u001b[0;36m<module>\u001b[0;34m\u001b[0m\n\u001b[0;32m----> 1\u001b[0;31m \u001b[0msha256\u001b[0m\u001b[0;34m(\u001b[0m\u001b[0my\u001b[0m\u001b[0;34m)\u001b[0m\u001b[0;34m\u001b[0m\u001b[0m\n\u001b[0m",
      "\u001b[0;32m<ipython-input-2-afb3660a0572>\u001b[0m in \u001b[0;36msha256\u001b[0;34m(preimage)\u001b[0m\n\u001b[1;32m     56\u001b[0m \u001b[0;34m\u001b[0m\u001b[0m\n\u001b[1;32m     57\u001b[0m \u001b[0;32mdef\u001b[0m \u001b[0msha256\u001b[0m\u001b[0;34m(\u001b[0m\u001b[0mpreimage\u001b[0m\u001b[0;34m)\u001b[0m\u001b[0;34m:\u001b[0m\u001b[0;34m\u001b[0m\u001b[0m\n\u001b[0;32m---> 58\u001b[0;31m     \u001b[0;32mreturn\u001b[0m \u001b[0mhashlib\u001b[0m\u001b[0;34m.\u001b[0m\u001b[0msha256\u001b[0m\u001b[0;34m(\u001b[0m\u001b[0mpreimage\u001b[0m\u001b[0;34m)\u001b[0m\u001b[0;34m.\u001b[0m\u001b[0mhexdigest\u001b[0m\u001b[0;34m(\u001b[0m\u001b[0;34m)\u001b[0m\u001b[0;34m\u001b[0m\u001b[0m\n\u001b[0m\u001b[1;32m     59\u001b[0m \u001b[0;34m\u001b[0m\u001b[0m\n",
      "\u001b[0;31mTypeError\u001b[0m: Unicode-objects must be encoded before hashing"
     ]
    }
   ],
   "source": [
    "sha256(y)"
   ]
  },
  {
   "cell_type": "code",
   "execution_count": null,
   "metadata": {},
   "outputs": [],
   "source": [
    "91847833570236376623353796409533612271 53990879501115389784347845798781762718 5842929490249618006411387357357002722851206627331830319918036917473800022005 4065416027434968355654707423863308181720678987952057222539105356689569090521 73889174636035300592545794598521332385 0 1 0 230693698526877058196338780935533734348 171056789775168333469288207686050104489 57209536325706169576629192264336696427 8533674579684692690101847098365701826 218090638228227334656199458837866843135 169415818512509058375165598930221355046 31285119470570527112885612411582285080 120684830344098502278140917627178183908"
   ]
  },
  {
   "cell_type": "code",
   "execution_count": 34,
   "metadata": {},
   "outputs": [
    {
     "data": {
      "text/plain": [
       "('259583058875839081467513920566426392324',\n",
       " '292073121256562291064687727022213705171')"
      ]
     },
     "execution_count": 34,
     "metadata": {},
     "output_type": "execute_result"
    }
   ],
   "source": [
    "split_in_128('c349e0ece099380a599d2c5e2fa8d704dbbb3cad33edec9081207750d85c2dd3')"
   ]
  },
  {
   "cell_type": "code",
   "execution_count": null,
   "metadata": {},
   "outputs": [],
   "source": []
  },
  {
   "cell_type": "code",
   "execution_count": 8,
   "metadata": {},
   "outputs": [
    {
     "ename": "NameError",
     "evalue": "name 'e' is not defined",
     "output_type": "error",
     "traceback": [
      "\u001b[0;31m---------------------------------------------------------------------------\u001b[0m",
      "\u001b[0;31mNameError\u001b[0m                                 Traceback (most recent call last)",
      "\u001b[0;32m<ipython-input-8-585125fd76a5>\u001b[0m in \u001b[0;36m<module>\u001b[0;34m\u001b[0m\n\u001b[0;32m----> 1\u001b[0;31m \u001b[0mprint\u001b[0m\u001b[0;34m(\u001b[0m\u001b[0;34mf'{e} {f} {a} {b} 0 {c} {d}'\u001b[0m\u001b[0;34m)\u001b[0m\u001b[0;34m\u001b[0m\u001b[0m\n\u001b[0m",
      "\u001b[0;31mNameError\u001b[0m: name 'e' is not defined"
     ]
    }
   ],
   "source": [
    "print(f'{e} {f} {a} {b} 0 {c} {d}')"
   ]
  },
  {
   "cell_type": "code",
   "execution_count": 9,
   "metadata": {},
   "outputs": [
    {
     "ename": "NameError",
     "evalue": "name 'tree_root' is not defined",
     "output_type": "error",
     "traceback": [
      "\u001b[0;31m---------------------------------------------------------------------------\u001b[0m",
      "\u001b[0;31mNameError\u001b[0m                                 Traceback (most recent call last)",
      "\u001b[0;32m<ipython-input-9-24d7daf794c2>\u001b[0m in \u001b[0;36m<module>\u001b[0;34m\u001b[0m\n\u001b[0;32m----> 1\u001b[0;31m \u001b[0mstr\u001b[0m\u001b[0;34m(\u001b[0m\u001b[0msplit_in_128\u001b[0m\u001b[0;34m(\u001b[0m\u001b[0mtree_root\u001b[0m\u001b[0;34m)\u001b[0m\u001b[0;34m)\u001b[0m\u001b[0;34m\u001b[0m\u001b[0m\n\u001b[0m",
      "\u001b[0;31mNameError\u001b[0m: name 'tree_root' is not defined"
     ]
    }
   ],
   "source": [
    "str(split_in_128(tree_root))"
   ]
  },
  {
   "cell_type": "code",
   "execution_count": 10,
   "metadata": {},
   "outputs": [
    {
     "ename": "TypeError",
     "evalue": "int() can't convert non-string with explicit base",
     "output_type": "error",
     "traceback": [
      "\u001b[0;31m---------------------------------------------------------------------------\u001b[0m",
      "\u001b[0;31mTypeError\u001b[0m                                 Traceback (most recent call last)",
      "\u001b[0;32m<ipython-input-10-1ff9daee83b6>\u001b[0m in \u001b[0;36m<module>\u001b[0;34m\u001b[0m\n\u001b[0;32m----> 1\u001b[0;31m \u001b[0mleafhash\u001b[0m\u001b[0;34m(\u001b[0m\u001b[0;36m9347197123955067502299347123172707107736742848980750471497860027091869058261\u001b[0m\u001b[0;34m,\u001b[0m \u001b[0;36m17080122713037892253905384489626209271114931117541157439362422423664377917307\u001b[0m\u001b[0;34m)\u001b[0m\u001b[0;34m\u001b[0m\u001b[0m\n\u001b[0m\u001b[1;32m      2\u001b[0m \u001b[0;34m\u001b[0m\u001b[0m\n",
      "\u001b[0;32m<ipython-input-2-afb3660a0572>\u001b[0m in \u001b[0;36mleafhash\u001b[0;34m(lhs, rhs)\u001b[0m\n\u001b[1;32m     36\u001b[0m     \u001b[0mhex_hash\u001b[0m \u001b[0;34m=\u001b[0m \u001b[0mhashlib\u001b[0m\u001b[0;34m.\u001b[0m\u001b[0msha256\u001b[0m\u001b[0;34m(\u001b[0m\u001b[0mpreimage\u001b[0m\u001b[0;34m)\u001b[0m\u001b[0;34m.\u001b[0m\u001b[0mhexdigest\u001b[0m\u001b[0;34m(\u001b[0m\u001b[0;34m)\u001b[0m\u001b[0;34m\u001b[0m\u001b[0m\n\u001b[1;32m     37\u001b[0m     \u001b[0mhex_num\u001b[0m \u001b[0;34m=\u001b[0m \u001b[0mint\u001b[0m\u001b[0;34m(\u001b[0m\u001b[0mhex_hash\u001b[0m\u001b[0;34m,\u001b[0m\u001b[0;36m16\u001b[0m\u001b[0;34m)\u001b[0m\u001b[0;34m\u001b[0m\u001b[0m\n\u001b[0;32m---> 38\u001b[0;31m     \u001b[0mprinthash\u001b[0m\u001b[0;34m(\u001b[0m\u001b[0mhex_num\u001b[0m\u001b[0;34m)\u001b[0m\u001b[0;34m\u001b[0m\u001b[0m\n\u001b[0m\u001b[1;32m     39\u001b[0m     \u001b[0;32mreturn\u001b[0m \u001b[0mhex_num\u001b[0m\u001b[0;34m\u001b[0m\u001b[0m\n\u001b[1;32m     40\u001b[0m \u001b[0;34m\u001b[0m\u001b[0m\n",
      "\u001b[0;32m<ipython-input-2-afb3660a0572>\u001b[0m in \u001b[0;36mprinthash\u001b[0;34m(value)\u001b[0m\n\u001b[1;32m     21\u001b[0m     \u001b[0mnumber\u001b[0m \u001b[0msize\u001b[0m\u001b[0;34m:\u001b[0m \u001b[0;34m{\u001b[0m\u001b[0mnumber\u001b[0m\u001b[0;34m.\u001b[0m\u001b[0msize\u001b[0m\u001b[0;34m(\u001b[0m\u001b[0mvalue\u001b[0m\u001b[0;34m)\u001b[0m\u001b[0;34m}\u001b[0m\u001b[0;34m\u001b[0m\u001b[0m\n\u001b[1;32m     22\u001b[0m     \u001b[0;36m128\u001b[0m \u001b[0mpairs\u001b[0m\u001b[0;34m:\u001b[0m \u001b[0;34m{\u001b[0m\u001b[0msplit_in_128\u001b[0m\u001b[0;34m(\u001b[0m\u001b[0mvalue\u001b[0m\u001b[0;34m)\u001b[0m\u001b[0;34m}\u001b[0m\u001b[0;34m\u001b[0m\u001b[0m\n\u001b[0;32m---> 23\u001b[0;31m     ''')\n\u001b[0m\u001b[1;32m     24\u001b[0m \u001b[0;34m\u001b[0m\u001b[0m\n\u001b[1;32m     25\u001b[0m \u001b[0;32mdef\u001b[0m \u001b[0munpack256\u001b[0m\u001b[0;34m(\u001b[0m\u001b[0mvalue\u001b[0m\u001b[0;34m)\u001b[0m\u001b[0;34m:\u001b[0m\u001b[0;34m\u001b[0m\u001b[0m\n",
      "\u001b[0;32m<ipython-input-2-afb3660a0572>\u001b[0m in \u001b[0;36msplit_in_128\u001b[0;34m(value)\u001b[0m\n\u001b[1;32m      9\u001b[0m \u001b[0;31m# you can also omit it and the default hash function will be used\u001b[0m\u001b[0;34m\u001b[0m\u001b[0;34m\u001b[0m\u001b[0m\n\u001b[1;32m     10\u001b[0m \u001b[0;32mdef\u001b[0m \u001b[0msplit_in_128\u001b[0m\u001b[0;34m(\u001b[0m\u001b[0mvalue\u001b[0m\u001b[0;34m)\u001b[0m\u001b[0;34m:\u001b[0m\u001b[0;34m\u001b[0m\u001b[0m\n\u001b[0;32m---> 11\u001b[0;31m     \u001b[0munpadded\u001b[0m \u001b[0;34m=\u001b[0m \u001b[0mlist\u001b[0m\u001b[0;34m(\u001b[0m\u001b[0mstr\u001b[0m\u001b[0;34m(\u001b[0m\u001b[0mbin\u001b[0m\u001b[0;34m(\u001b[0m\u001b[0mint\u001b[0m\u001b[0;34m(\u001b[0m\u001b[0mvalue\u001b[0m\u001b[0;34m,\u001b[0m \u001b[0;36m16\u001b[0m\u001b[0;34m)\u001b[0m\u001b[0;34m)\u001b[0m\u001b[0;34m[\u001b[0m\u001b[0;36m2\u001b[0m\u001b[0;34m:\u001b[0m\u001b[0;34m]\u001b[0m\u001b[0;34m)\u001b[0m\u001b[0;34m)\u001b[0m\u001b[0;34m\u001b[0m\u001b[0m\n\u001b[0m\u001b[1;32m     12\u001b[0m     \u001b[0mpadded\u001b[0m \u001b[0;34m=\u001b[0m \u001b[0;34m\"\"\u001b[0m\u001b[0;34m.\u001b[0m\u001b[0mjoin\u001b[0m\u001b[0;34m(\u001b[0m\u001b[0mmap\u001b[0m\u001b[0;34m(\u001b[0m\u001b[0mstr\u001b[0m\u001b[0;34m,\u001b[0m \u001b[0;34m[\u001b[0m\u001b[0;36m0\u001b[0m\u001b[0;34m]\u001b[0m \u001b[0;34m*\u001b[0m \u001b[0;34m(\u001b[0m\u001b[0;36m256\u001b[0m \u001b[0;34m-\u001b[0m \u001b[0mlen\u001b[0m\u001b[0;34m(\u001b[0m\u001b[0munpadded\u001b[0m\u001b[0;34m)\u001b[0m\u001b[0;34m)\u001b[0m \u001b[0;34m+\u001b[0m \u001b[0munpadded\u001b[0m\u001b[0;34m)\u001b[0m\u001b[0;34m)\u001b[0m\u001b[0;34m\u001b[0m\u001b[0m\n\u001b[1;32m     13\u001b[0m     \u001b[0mvalue1\u001b[0m\u001b[0;34m,\u001b[0m \u001b[0mvalue2\u001b[0m \u001b[0;34m=\u001b[0m \u001b[0mpadded\u001b[0m\u001b[0;34m[\u001b[0m\u001b[0;34m:\u001b[0m\u001b[0;36m128\u001b[0m\u001b[0;34m]\u001b[0m\u001b[0;34m,\u001b[0m \u001b[0mpadded\u001b[0m\u001b[0;34m[\u001b[0m\u001b[0;36m128\u001b[0m\u001b[0;34m:\u001b[0m\u001b[0;34m]\u001b[0m\u001b[0;34m\u001b[0m\u001b[0m\n",
      "\u001b[0;31mTypeError\u001b[0m: int() can't convert non-string with explicit base"
     ]
    }
   ],
   "source": [
    "leafhash(9347197123955067502299347123172707107736742848980750471497860027091869058261, 17080122713037892253905384489626209271114931117541157439362422423664377917307)\n",
    "\n"
   ]
  },
  {
   "cell_type": "code",
   "execution_count": 11,
   "metadata": {},
   "outputs": [
    {
     "data": {
      "text/plain": [
       "77"
      ]
     },
     "execution_count": 11,
     "metadata": {},
     "output_type": "execute_result"
    }
   ],
   "source": [
    "len('18108654401806847981431026731501438725632879398752240573157939653377929852131')"
   ]
  },
  {
   "cell_type": "code",
   "execution_count": 12,
   "metadata": {},
   "outputs": [
    {
     "ename": "TypeError",
     "evalue": "int() can't convert non-string with explicit base",
     "output_type": "error",
     "traceback": [
      "\u001b[0;31m---------------------------------------------------------------------------\u001b[0m",
      "\u001b[0;31mTypeError\u001b[0m                                 Traceback (most recent call last)",
      "\u001b[0;32m<ipython-input-12-f04bd3ec09d1>\u001b[0m in \u001b[0;36m<module>\u001b[0;34m\u001b[0m\n\u001b[0;32m----> 1\u001b[0;31m \u001b[0mleafhash\u001b[0m\u001b[0;34m(\u001b[0m\u001b[0;36m5273592313522545669763239369737548972936122350299813356657043169565692410214\u001b[0m\u001b[0;34m,\u001b[0m \u001b[0;36m4438891100753198311257417672345655531574574993160995424947811462420457314719\u001b[0m\u001b[0;34m)\u001b[0m\u001b[0;34m\u001b[0m\u001b[0m\n\u001b[0m",
      "\u001b[0;32m<ipython-input-2-afb3660a0572>\u001b[0m in \u001b[0;36mleafhash\u001b[0;34m(lhs, rhs)\u001b[0m\n\u001b[1;32m     36\u001b[0m     \u001b[0mhex_hash\u001b[0m \u001b[0;34m=\u001b[0m \u001b[0mhashlib\u001b[0m\u001b[0;34m.\u001b[0m\u001b[0msha256\u001b[0m\u001b[0;34m(\u001b[0m\u001b[0mpreimage\u001b[0m\u001b[0;34m)\u001b[0m\u001b[0;34m.\u001b[0m\u001b[0mhexdigest\u001b[0m\u001b[0;34m(\u001b[0m\u001b[0;34m)\u001b[0m\u001b[0;34m\u001b[0m\u001b[0m\n\u001b[1;32m     37\u001b[0m     \u001b[0mhex_num\u001b[0m \u001b[0;34m=\u001b[0m \u001b[0mint\u001b[0m\u001b[0;34m(\u001b[0m\u001b[0mhex_hash\u001b[0m\u001b[0;34m,\u001b[0m\u001b[0;36m16\u001b[0m\u001b[0;34m)\u001b[0m\u001b[0;34m\u001b[0m\u001b[0m\n\u001b[0;32m---> 38\u001b[0;31m     \u001b[0mprinthash\u001b[0m\u001b[0;34m(\u001b[0m\u001b[0mhex_num\u001b[0m\u001b[0;34m)\u001b[0m\u001b[0;34m\u001b[0m\u001b[0m\n\u001b[0m\u001b[1;32m     39\u001b[0m     \u001b[0;32mreturn\u001b[0m \u001b[0mhex_num\u001b[0m\u001b[0;34m\u001b[0m\u001b[0m\n\u001b[1;32m     40\u001b[0m \u001b[0;34m\u001b[0m\u001b[0m\n",
      "\u001b[0;32m<ipython-input-2-afb3660a0572>\u001b[0m in \u001b[0;36mprinthash\u001b[0;34m(value)\u001b[0m\n\u001b[1;32m     21\u001b[0m     \u001b[0mnumber\u001b[0m \u001b[0msize\u001b[0m\u001b[0;34m:\u001b[0m \u001b[0;34m{\u001b[0m\u001b[0mnumber\u001b[0m\u001b[0;34m.\u001b[0m\u001b[0msize\u001b[0m\u001b[0;34m(\u001b[0m\u001b[0mvalue\u001b[0m\u001b[0;34m)\u001b[0m\u001b[0;34m}\u001b[0m\u001b[0;34m\u001b[0m\u001b[0m\n\u001b[1;32m     22\u001b[0m     \u001b[0;36m128\u001b[0m \u001b[0mpairs\u001b[0m\u001b[0;34m:\u001b[0m \u001b[0;34m{\u001b[0m\u001b[0msplit_in_128\u001b[0m\u001b[0;34m(\u001b[0m\u001b[0mvalue\u001b[0m\u001b[0;34m)\u001b[0m\u001b[0;34m}\u001b[0m\u001b[0;34m\u001b[0m\u001b[0m\n\u001b[0;32m---> 23\u001b[0;31m     ''')\n\u001b[0m\u001b[1;32m     24\u001b[0m \u001b[0;34m\u001b[0m\u001b[0m\n\u001b[1;32m     25\u001b[0m \u001b[0;32mdef\u001b[0m \u001b[0munpack256\u001b[0m\u001b[0;34m(\u001b[0m\u001b[0mvalue\u001b[0m\u001b[0;34m)\u001b[0m\u001b[0;34m:\u001b[0m\u001b[0;34m\u001b[0m\u001b[0m\n",
      "\u001b[0;32m<ipython-input-2-afb3660a0572>\u001b[0m in \u001b[0;36msplit_in_128\u001b[0;34m(value)\u001b[0m\n\u001b[1;32m      9\u001b[0m \u001b[0;31m# you can also omit it and the default hash function will be used\u001b[0m\u001b[0;34m\u001b[0m\u001b[0;34m\u001b[0m\u001b[0m\n\u001b[1;32m     10\u001b[0m \u001b[0;32mdef\u001b[0m \u001b[0msplit_in_128\u001b[0m\u001b[0;34m(\u001b[0m\u001b[0mvalue\u001b[0m\u001b[0;34m)\u001b[0m\u001b[0;34m:\u001b[0m\u001b[0;34m\u001b[0m\u001b[0m\n\u001b[0;32m---> 11\u001b[0;31m     \u001b[0munpadded\u001b[0m \u001b[0;34m=\u001b[0m \u001b[0mlist\u001b[0m\u001b[0;34m(\u001b[0m\u001b[0mstr\u001b[0m\u001b[0;34m(\u001b[0m\u001b[0mbin\u001b[0m\u001b[0;34m(\u001b[0m\u001b[0mint\u001b[0m\u001b[0;34m(\u001b[0m\u001b[0mvalue\u001b[0m\u001b[0;34m,\u001b[0m \u001b[0;36m16\u001b[0m\u001b[0;34m)\u001b[0m\u001b[0;34m)\u001b[0m\u001b[0;34m[\u001b[0m\u001b[0;36m2\u001b[0m\u001b[0;34m:\u001b[0m\u001b[0;34m]\u001b[0m\u001b[0;34m)\u001b[0m\u001b[0;34m)\u001b[0m\u001b[0;34m\u001b[0m\u001b[0m\n\u001b[0m\u001b[1;32m     12\u001b[0m     \u001b[0mpadded\u001b[0m \u001b[0;34m=\u001b[0m \u001b[0;34m\"\"\u001b[0m\u001b[0;34m.\u001b[0m\u001b[0mjoin\u001b[0m\u001b[0;34m(\u001b[0m\u001b[0mmap\u001b[0m\u001b[0;34m(\u001b[0m\u001b[0mstr\u001b[0m\u001b[0;34m,\u001b[0m \u001b[0;34m[\u001b[0m\u001b[0;36m0\u001b[0m\u001b[0;34m]\u001b[0m \u001b[0;34m*\u001b[0m \u001b[0;34m(\u001b[0m\u001b[0;36m256\u001b[0m \u001b[0;34m-\u001b[0m \u001b[0mlen\u001b[0m\u001b[0;34m(\u001b[0m\u001b[0munpadded\u001b[0m\u001b[0;34m)\u001b[0m\u001b[0;34m)\u001b[0m \u001b[0;34m+\u001b[0m \u001b[0munpadded\u001b[0m\u001b[0;34m)\u001b[0m\u001b[0;34m)\u001b[0m\u001b[0;34m\u001b[0m\u001b[0m\n\u001b[1;32m     13\u001b[0m     \u001b[0mvalue1\u001b[0m\u001b[0;34m,\u001b[0m \u001b[0mvalue2\u001b[0m \u001b[0;34m=\u001b[0m \u001b[0mpadded\u001b[0m\u001b[0;34m[\u001b[0m\u001b[0;34m:\u001b[0m\u001b[0;36m128\u001b[0m\u001b[0;34m]\u001b[0m\u001b[0;34m,\u001b[0m \u001b[0mpadded\u001b[0m\u001b[0;34m[\u001b[0m\u001b[0;36m128\u001b[0m\u001b[0;34m:\u001b[0m\u001b[0;34m]\u001b[0m\u001b[0;34m\u001b[0m\u001b[0m\n",
      "\u001b[0;31mTypeError\u001b[0m: int() can't convert non-string with explicit base"
     ]
    }
   ],
   "source": [
    "leafhash(5273592313522545669763239369737548972936122350299813356657043169565692410214, 4438891100753198311257417672345655531574574993160995424947811462420457314719)\n"
   ]
  },
  {
   "cell_type": "code",
   "execution_count": 13,
   "metadata": {},
   "outputs": [
    {
     "ename": "TypeError",
     "evalue": "int() can't convert non-string with explicit base",
     "output_type": "error",
     "traceback": [
      "\u001b[0;31m---------------------------------------------------------------------------\u001b[0m",
      "\u001b[0;31mTypeError\u001b[0m                                 Traceback (most recent call last)",
      "\u001b[0;32m<ipython-input-13-eb84a7906edc>\u001b[0m in \u001b[0;36m<module>\u001b[0;34m\u001b[0m\n\u001b[0;32m----> 1\u001b[0;31m \u001b[0mleafhash\u001b[0m\u001b[0;34m(\u001b[0m\u001b[0;36m78500997768471140206194977071471243125152084370366652678202980359874644395177\u001b[0m\u001b[0;34m,\u001b[0m \u001b[0;36m19467396431360704483580553484173217028284689943058940297520137226571781369538\u001b[0m\u001b[0;34m)\u001b[0m\u001b[0;34m\u001b[0m\u001b[0m\n\u001b[0m",
      "\u001b[0;32m<ipython-input-2-afb3660a0572>\u001b[0m in \u001b[0;36mleafhash\u001b[0;34m(lhs, rhs)\u001b[0m\n\u001b[1;32m     36\u001b[0m     \u001b[0mhex_hash\u001b[0m \u001b[0;34m=\u001b[0m \u001b[0mhashlib\u001b[0m\u001b[0;34m.\u001b[0m\u001b[0msha256\u001b[0m\u001b[0;34m(\u001b[0m\u001b[0mpreimage\u001b[0m\u001b[0;34m)\u001b[0m\u001b[0;34m.\u001b[0m\u001b[0mhexdigest\u001b[0m\u001b[0;34m(\u001b[0m\u001b[0;34m)\u001b[0m\u001b[0;34m\u001b[0m\u001b[0m\n\u001b[1;32m     37\u001b[0m     \u001b[0mhex_num\u001b[0m \u001b[0;34m=\u001b[0m \u001b[0mint\u001b[0m\u001b[0;34m(\u001b[0m\u001b[0mhex_hash\u001b[0m\u001b[0;34m,\u001b[0m\u001b[0;36m16\u001b[0m\u001b[0;34m)\u001b[0m\u001b[0;34m\u001b[0m\u001b[0m\n\u001b[0;32m---> 38\u001b[0;31m     \u001b[0mprinthash\u001b[0m\u001b[0;34m(\u001b[0m\u001b[0mhex_num\u001b[0m\u001b[0;34m)\u001b[0m\u001b[0;34m\u001b[0m\u001b[0m\n\u001b[0m\u001b[1;32m     39\u001b[0m     \u001b[0;32mreturn\u001b[0m \u001b[0mhex_num\u001b[0m\u001b[0;34m\u001b[0m\u001b[0m\n\u001b[1;32m     40\u001b[0m \u001b[0;34m\u001b[0m\u001b[0m\n",
      "\u001b[0;32m<ipython-input-2-afb3660a0572>\u001b[0m in \u001b[0;36mprinthash\u001b[0;34m(value)\u001b[0m\n\u001b[1;32m     21\u001b[0m     \u001b[0mnumber\u001b[0m \u001b[0msize\u001b[0m\u001b[0;34m:\u001b[0m \u001b[0;34m{\u001b[0m\u001b[0mnumber\u001b[0m\u001b[0;34m.\u001b[0m\u001b[0msize\u001b[0m\u001b[0;34m(\u001b[0m\u001b[0mvalue\u001b[0m\u001b[0;34m)\u001b[0m\u001b[0;34m}\u001b[0m\u001b[0;34m\u001b[0m\u001b[0m\n\u001b[1;32m     22\u001b[0m     \u001b[0;36m128\u001b[0m \u001b[0mpairs\u001b[0m\u001b[0;34m:\u001b[0m \u001b[0;34m{\u001b[0m\u001b[0msplit_in_128\u001b[0m\u001b[0;34m(\u001b[0m\u001b[0mvalue\u001b[0m\u001b[0;34m)\u001b[0m\u001b[0;34m}\u001b[0m\u001b[0;34m\u001b[0m\u001b[0m\n\u001b[0;32m---> 23\u001b[0;31m     ''')\n\u001b[0m\u001b[1;32m     24\u001b[0m \u001b[0;34m\u001b[0m\u001b[0m\n\u001b[1;32m     25\u001b[0m \u001b[0;32mdef\u001b[0m \u001b[0munpack256\u001b[0m\u001b[0;34m(\u001b[0m\u001b[0mvalue\u001b[0m\u001b[0;34m)\u001b[0m\u001b[0;34m:\u001b[0m\u001b[0;34m\u001b[0m\u001b[0m\n",
      "\u001b[0;32m<ipython-input-2-afb3660a0572>\u001b[0m in \u001b[0;36msplit_in_128\u001b[0;34m(value)\u001b[0m\n\u001b[1;32m      9\u001b[0m \u001b[0;31m# you can also omit it and the default hash function will be used\u001b[0m\u001b[0;34m\u001b[0m\u001b[0;34m\u001b[0m\u001b[0m\n\u001b[1;32m     10\u001b[0m \u001b[0;32mdef\u001b[0m \u001b[0msplit_in_128\u001b[0m\u001b[0;34m(\u001b[0m\u001b[0mvalue\u001b[0m\u001b[0;34m)\u001b[0m\u001b[0;34m:\u001b[0m\u001b[0;34m\u001b[0m\u001b[0m\n\u001b[0;32m---> 11\u001b[0;31m     \u001b[0munpadded\u001b[0m \u001b[0;34m=\u001b[0m \u001b[0mlist\u001b[0m\u001b[0;34m(\u001b[0m\u001b[0mstr\u001b[0m\u001b[0;34m(\u001b[0m\u001b[0mbin\u001b[0m\u001b[0;34m(\u001b[0m\u001b[0mint\u001b[0m\u001b[0;34m(\u001b[0m\u001b[0mvalue\u001b[0m\u001b[0;34m,\u001b[0m \u001b[0;36m16\u001b[0m\u001b[0;34m)\u001b[0m\u001b[0;34m)\u001b[0m\u001b[0;34m[\u001b[0m\u001b[0;36m2\u001b[0m\u001b[0;34m:\u001b[0m\u001b[0;34m]\u001b[0m\u001b[0;34m)\u001b[0m\u001b[0;34m)\u001b[0m\u001b[0;34m\u001b[0m\u001b[0m\n\u001b[0m\u001b[1;32m     12\u001b[0m     \u001b[0mpadded\u001b[0m \u001b[0;34m=\u001b[0m \u001b[0;34m\"\"\u001b[0m\u001b[0;34m.\u001b[0m\u001b[0mjoin\u001b[0m\u001b[0;34m(\u001b[0m\u001b[0mmap\u001b[0m\u001b[0;34m(\u001b[0m\u001b[0mstr\u001b[0m\u001b[0;34m,\u001b[0m \u001b[0;34m[\u001b[0m\u001b[0;36m0\u001b[0m\u001b[0;34m]\u001b[0m \u001b[0;34m*\u001b[0m \u001b[0;34m(\u001b[0m\u001b[0;36m256\u001b[0m \u001b[0;34m-\u001b[0m \u001b[0mlen\u001b[0m\u001b[0;34m(\u001b[0m\u001b[0munpadded\u001b[0m\u001b[0;34m)\u001b[0m\u001b[0;34m)\u001b[0m \u001b[0;34m+\u001b[0m \u001b[0munpadded\u001b[0m\u001b[0;34m)\u001b[0m\u001b[0;34m)\u001b[0m\u001b[0;34m\u001b[0m\u001b[0m\n\u001b[1;32m     13\u001b[0m     \u001b[0mvalue1\u001b[0m\u001b[0;34m,\u001b[0m \u001b[0mvalue2\u001b[0m \u001b[0;34m=\u001b[0m \u001b[0mpadded\u001b[0m\u001b[0;34m[\u001b[0m\u001b[0;34m:\u001b[0m\u001b[0;36m128\u001b[0m\u001b[0;34m]\u001b[0m\u001b[0;34m,\u001b[0m \u001b[0mpadded\u001b[0m\u001b[0;34m[\u001b[0m\u001b[0;36m128\u001b[0m\u001b[0;34m:\u001b[0m\u001b[0;34m]\u001b[0m\u001b[0;34m\u001b[0m\u001b[0m\n",
      "\u001b[0;31mTypeError\u001b[0m: int() can't convert non-string with explicit base"
     ]
    }
   ],
   "source": [
    "leafhash(78500997768471140206194977071471243125152084370366652678202980359874644395177, 19467396431360704483580553484173217028284689943058940297520137226571781369538)\n"
   ]
  },
  {
   "cell_type": "code",
   "execution_count": null,
   "metadata": {},
   "outputs": [],
   "source": [
    "type(78500997768471140206194977071471243125152084370366652678202980359874644395177)"
   ]
  },
  {
   "cell_type": "code",
   "execution_count": null,
   "metadata": {},
   "outputs": [],
   "source": [
    "'''\n",
    "└─ 45193fd21ff8aa3309f72476546b40ef289e43e13b195557074c4c043f5fbc9e\n",
    "   ├─ 38248f1953dce38d18c9c8008b59562275fa88398003941c3f318fb48840fe54\n",
    "   │  ├─ a412baa4afe9d746f793d32ae25d8bff7f744cbf3565cf0af1560ee7c3c35026\n",
    "   │  │  ├─ 92b34907ec85874ab6faadaa1fd32b3e86c1211c8fb9350a8bf13bd5caf1ff29\n",
    "   │  │  └─ 5d18f5dbfb0469a7136a3f3f95f46b3b1dbf434e1f9d95574ed8d40f8a40d0f1\n",
    "   │  └─ 411421fa567a310aec47f56965e2074c5dbfed12a0ec19aaa7f08f149addb6b4\n",
    "   │     ├─ ad8dfd7d9441a9c44a796a319cf9a9cc80b056e06b7a3923cc20ce0c8ce1c4a9\n",
    "   │     └─ 2b0a27e9cf8c514a1f01f7b905d6646b066b86a40f87c8fad4277c35cf85eec2\n",
    "   └─ 17894b7aa5e52e75d1cbea9a822a05185acb0d882fe19eee11f9bd730ce3ece4\n",
    "      ├─ 7bd12d142e707ca4e0fef03283fcb84428bc9d09c5094c3d695091a4bb6adc1f\n",
    "      │  ├─ 369850511d58b5a40f57279d8ef1e18f84bfed2884ee463307a67077e4c75bf2\n",
    "      │  └─ 9f762e459a5c3c6130ddaa04efa3d9aaf29424e73cb079b4f99a651332b8935a\n",
    "      └─ 3bd093b55535e8ae2aac76beb51dacb2d09130e7a69678307795439fd2cfbb52\n",
    "         ├─ 6760fd62081bbc67ae0320d61122e54871d026be124f41e11df2336077a93c39\n",
    "         └─ 5bd9416d7cb4ff4560398e9d6b242fc3aaccea9c456038dcfb548a9ad8593945\n",
    "'''"
   ]
  },
  {
   "cell_type": "code",
   "execution_count": 24,
   "metadata": {},
   "outputs": [
    {
     "data": {
      "text/plain": [
       "33"
      ]
     },
     "execution_count": 24,
     "metadata": {},
     "output_type": "execute_result"
    }
   ],
   "source": [
    "import math \n",
    "math.ceil(math.log2(7000000000))"
   ]
  },
  {
   "cell_type": "code",
   "execution_count": 26,
   "metadata": {},
   "outputs": [
    {
     "data": {
      "text/plain": [
       "'4406f809d64c41ecbd98fb80ab68fd4b4a14cfb2d016ea6795704e3c7234e8b8'"
      ]
     },
     "execution_count": 26,
     "metadata": {},
     "output_type": "execute_result"
    }
   ],
   "source": [
    "y = sha256(digest_ecc_pairs('13412043483282205028692465366459305789772389093516445615271531226304853461263', '3576295512233143788842022965590338929127328944971266381188454083968422592379'))\n",
    "y"
   ]
  },
  {
   "cell_type": "code",
   "execution_count": 27,
   "metadata": {},
   "outputs": [
    {
     "data": {
      "text/plain": [
       "31254198203840464137275165755585640452447175220234920738201232620163426139294"
      ]
     },
     "execution_count": 27,
     "metadata": {},
     "output_type": "execute_result"
    }
   ],
   "source": [
    "int('45193fd21ff8aa3309f72476546b40ef289e43e13b195557074c4c043f5fbc9e', 16)"
   ]
  },
  {
   "cell_type": "code",
   "execution_count": 28,
   "metadata": {},
   "outputs": [
    {
     "data": {
      "text/plain": [
       "31254198203840464137275165755585640452447175220234920738201232620163426139294"
      ]
     },
     "execution_count": 28,
     "metadata": {},
     "output_type": "execute_result"
    }
   ],
   "source": [
    "combine_128s(91847833570236376623353796409533612271, 53990879501115389784347845798781762718)"
   ]
  },
  {
   "cell_type": "code",
   "execution_count": null,
   "metadata": {},
   "outputs": [],
   "source": []
  }
 ],
 "metadata": {
  "kernelspec": {
   "display_name": "Python 3",
   "language": "python",
   "name": "python3"
  },
  "language_info": {
   "codemirror_mode": {
    "name": "ipython",
    "version": 3
   },
   "file_extension": ".py",
   "mimetype": "text/x-python",
   "name": "python",
   "nbconvert_exporter": "python",
   "pygments_lexer": "ipython3",
   "version": "3.6.5"
  }
 },
 "nbformat": 4,
 "nbformat_minor": 2
}

{
 "cells": [
  {
   "cell_type": "code",
   "execution_count": 1,
   "metadata": {},
   "outputs": [],
   "source": [
    "import hashlib\n",
    "import json\n",
    "from bitarray import bitarray\n",
    "from Cryptodome.Util import number\n",
    "from merklelib import MerkleTree, beautify\n",
    "\n",
    "\n",
    "# a sample hash function\n",
    "# you can also omit it and the default hash function will be used\n",
    "def split_in_128(value):\n",
    "    unpadded = list(str(bin(int(value, 16))[2:]))\n",
    "    padded = \"\".join(map(str, [0] * (256 - len(unpadded)) + unpadded))\n",
    "    value1, value2 = padded[:128], padded[128:]\n",
    "    return str(int(value1, 2)), str(int(value2, 2))\n",
    "\n",
    "def printhash(value):\n",
    "    print(f'''\n",
    "    {'-' * 20}\n",
    "    number: {value}\n",
    "    hexdigest: {hex(value)}\n",
    "    number size: {number.size(value)}\n",
    "    128 pairs: {split_in_128(value)}\n",
    "    ''')\n",
    "    \n",
    "def unpack256(value):\n",
    "    return (value).to_bytes(32, byteorder='big')\n",
    "\n",
    "def unpack512(value):\n",
    "    return (value).to_bytes(64, byteorder='big')\n",
    "\n",
    "def combine_128s(a, b):\n",
    "    return (a << 128) + b\n",
    "    \n",
    "def leafhash(lhs, rhs):\n",
    "    preimage = unpack256(lhs) +  unpack256(rhs)\n",
    "    hex_hash = hashlib.sha256(preimage).hexdigest()\n",
    "    hex_num = int(hex_hash,16)\n",
    "    printhash(hex_num)\n",
    "    return hex_num\n",
    "\n",
    "def treehash(lhs, rhs):\n",
    "    preimage = unpack512(lhs + rhs)\n",
    "    hex_hash = hashlib.sha256(preimage).hexdigest()\n",
    "    hex_num = int(hex_hash,16)\n",
    "    printhash(hex_num)\n",
    "    return hex_num\n",
    "\n",
    "def format_barray(barray):\n",
    "    barray_str = ''.join(barray)\n",
    "    hashnum = int(barray_str, 2)\n",
    "    printhash(hashnum)\n",
    "    return hashnum\n",
    "\n",
    "def digest_ecc_pairs(lhs, rhs):\n",
    "    return unpack256(int(lhs)) +  unpack256(int(rhs))\n",
    "\n",
    "def sha256(preimage):\n",
    "    return hashlib.sha256(preimage).hexdigest()\n",
    "    "
   ]
  },
  {
   "cell_type": "code",
   "execution_count": 2,
   "metadata": {},
   "outputs": [
    {
     "name": "stdout",
     "output_type": "stream",
     "text": [
      "1c8358a474cc4e85798b30b28eaeb3a91232265e3d98057db2068404f5b510aa\n",
      "├── 33cda9da8235f12b4a1fc218b1e4130998817831f4adc9a2ef8969701b24280c\n",
      "│   ├── be9b45d8b25a4e04c4e2e4011d448ac83f679906871cb13f8a4493156a75fce5\n",
      "│   │   ├── f14565c7dd80ac11f353f8f0604f9efeb7f97b83b55234e0ca605f78525ea5f7\n",
      "│   │   │   ├── 04de61902c4200c769971ef2d3c96506cc921ebcf24105b512cefe8258a70e9c\n",
      "│   │   │   │   ├── bdd7e02c1fe954e745f0398f21fde249f5e4454dd03668f035a0cd767dbc8c4b\n",
      "│   │   │   │   │   ├── 4e85663296292c64e054f6f8da5ee54b2d79d8772c9882376c5bb94286aba10f\n",
      "│   │   │   │   │   └── 8ea325a290710856f06108c7e46c9fd5bb0dad6a62327c38ee0ce666269d2659\n",
      "│   │   │   │   └── 4ff33dc3c98d1e096f04041b51e0433626e677c00c2b32c0d074c6588eb9e465\n",
      "│   │   │   │       ├── 53f0388af8ec86fa546b65aebe4863efb42e3e5bbd9caf8aa0443cbc36dc02c2\n",
      "│   │   │   │       └── 9e60fa4697d7539e2a805d360c36e91bc271a3b15dd24b675b575789846d6d70\n",
      "│   │   │   └── e9c53cfc6db50a755da26cce7c8e27e71bcd2841c3b879e3120707d6d525fb15\n",
      "│   │   │       ├── f7d6098f02016c2f5072b0d295c6bd14c946adee4bb4a6e32163a6c46b3e8c2d\n",
      "│   │   │       │   ├── d497b5967bb4990b1be3d1fed9fa8de7b35b224ee6986223458228e8d3a93922\n",
      "│   │   │       │   └── 54b3f57fb918fe8c8c78db603f8d400f6b2e114e4a97139f4b920e6af9c3a813\n",
      "│   │   │       └── 43490598e2eb4f0c0fb73ede5a049892a5d6873e5f340fc77f716aabbb36185b\n",
      "│   │   │           ├── 249bb9ce597f41be6bffdfed53aac1b38e0d340cc8edd3bb08fa7b3bbbf16bb6\n",
      "│   │   │           └── 66223f1697dfc88371195b0b4ba676b56a650bf8f1e79c1dfee8dc6367e8f01e\n",
      "│   │   └── 16be5e74e083c4208ab79f078c313b8debb7bcf4533900bd6fca9b17d23dac0d\n",
      "│   │       ├── c7eb1f3078d5f701d135d205a28ec21d3843fdbb235ff14cdc1b43d2521b4fdb\n",
      "│   │       │   ├── 11bc883d9ca93b7546c754769a27d9e39484880ce7f3f5bafd3c68555a3220b1\n",
      "│   │       │   │   ├── a6167ac7dcfbb7e3c4e39b4842213be0d088be18adf527d1efa5d2f3d353bfc9\n",
      "│   │       │   │   └── 0c15c8f6feab0e503def3dd33a5c3e873ebb349f89d702871214655ee569c4df\n",
      "│   │       │   └── fe44342795e2a87b17ace966a7e9d9e0561d612737c41ecba8f38820d788f23c\n",
      "│   │       │       ├── 7278acdd8106ab7f8f474f5afe5cce922ca594f41b7763e0875546dd85ef1223\n",
      "│   │       │       └── 85c5466635ad3421571a66fc7a327e7fcae7e3f3525172c16d04709b00bf8d0e\n",
      "│   │       └── c4f1a3825315aa422034fbc8827056bc9a869533d93414442a99c1106bb3af55\n",
      "│   │           ├── c85f5f74446c9e3453221aa27f324a8f0b94c70679f555831101650f9a7cbaa6\n",
      "│   │           │   ├── 48c48d1f58dcff7a282e921a2dda078783234aeaedd526735e78be9220a3ff92\n",
      "│   │           │   └── 048fe01e3840eb9b3ce18dc0f7723f86b060d5fbb67a2c19a9e68f3eff6453ac\n",
      "│   │           └── c9e9eb2dd37e8aa8fb6ca6ab2baf4aa781b50701cc15b8c6a893cfdded6b69bd\n",
      "│   │               ├── 62f9e7d5c466a022c94cc1344b3ed9ff670d88376597daac292767bbc33c559f\n",
      "│   │               └── fd3199d1f29ce90fe303b1a4d0c3dda0ae108c0cfe336a27de9b43543fa48ec6\n",
      "│   └── c7513ce4bfefea3af017474aaa54f150e5fe2ed7048dcf81a2f6e62228aa4d5d\n",
      "│       ├── 266576c0676479d866c89c4b357af98b0efe62954d862571c724b2c6e8630942\n",
      "│       │   ├── f8c70ab1ee2924fb358fe8bc179cdb41215b4fdc748dc978e1c261afa39f4746\n",
      "│       │   │   ├── 3739fd3868fd0933d31fe8c983dedf77fcfb6f36038421565be573af4550c0f4\n",
      "│       │   │   │   ├── 68536641425977296498949c3abfc7a9d15d7615cfb7092eb4689b1b0dc4453e\n",
      "│       │   │   │   └── c77145681ed7f843d255b3ddbd14ee8ff9e3d299839bcc2f0cfc6b3de04b565a\n",
      "│       │   │   └── 5b55c02e218266397e7b9b4f7444e667531b05f63b2ea5e46fc67bbda1dac885\n",
      "│       │   │       ├── d654fa80cab181c296f216d336522265c399761a2964ae58ddf83ed30f7dba18\n",
      "│       │   │       └── a4eeb7dfd2d04ffb45eaa4ec49b70fdbd65eed5ac9124760aa63d8ffec150a72\n",
      "│       │   └── 13ac989f1fccb61469463fef04c670252cf344c7c40838fd94abd5a105a50855\n",
      "│       │       ├── ee59032c8e3a3429ef8a84aae9ccbdf44287d7bdf132a17438740398326c3d13\n",
      "│       │       │   ├── 99e2c9827447857fd7398a85f9bc5e83fcdb9b9bb71ef823fc4da04884703f23\n",
      "│       │       │   └── 102c21fe4d895d231561f18bdcb7fa07a7b35c65502664dfbdf39647dbe8e301\n",
      "│       │       └── 13c27f06dfb3c4ac323f34e0bc59743c6abb23876a38ee420d0103970d7a5c21\n",
      "│       │           ├── b7195db4da990e02bd4570054e04a1b611dca390d1398cc11eee227e72235d02\n",
      "│       │           └── 69d473db2bb667fe81c38f195cfe0ac6581c4611dbf94608aa2413ac3bd24a27\n",
      "│       └── 40d9b87de0d5a06f31974443c62bcb6473ad1b6d32ba55d638141a8d19354c93\n",
      "│           ├── 708ec6060b8de7d057414f270b8873f472328d7aaaccbefd91cae50075f2dda1\n",
      "│           │   ├── b9a55ea5b82f4772bee373b3b2c938b644a41aa30881a41cb4f771ee7b4026f7\n",
      "│           │   │   ├── cd2c4bd6b0984cce206fd3fcb8921a9446829e420d2b7eba978c6da7fb7e29a1\n",
      "│           │   │   └── c6704ce0325aa9743fe1b791c0b56d7a362382a8df97bb4ecc090027f99cac5d\n",
      "│           │   └── 4bec918d22f7c8421129a08d8aab504f4826744bc1adb0762f083f167923ec0c\n",
      "│           │       ├── d471b38381addf47e439121103cc6d3d4e33b33d19c5e5b4dc3bababb4b26167\n",
      "│           │       └── a09a5b087edf25aeffdcdaf216083576d22b1a07fce39fa9c6fa9210fe1f82c7\n",
      "│           └── e93bec336385e47443f3a386b4a7fa5d814d6773cb0bbedf5994f55d4cfb9a0d\n",
      "│               ├── 88232616d17bac84bd2af08e4012cb4c13b59df53f7709886943c47e24909ba6\n",
      "│               │   ├── 2569704cfbce3f86a38a8d14d9b3e80c6cc19473a9138b0afaa2c44523f97bbc\n",
      "│               │   └── b0751e5cadfee4c6fb001b0f07093ec85702cc2cbfd3002bb2badfec5122d165\n",
      "│               └── c3fe2351b7ca289af8fa6ddd54ce82c57bb06ceac8492e6a91d125921107996e\n",
      "│                   ├── 9fc7581c13d8cde2e973c646cd41d42eadc9473ab0f53642f2599867833200ca\n",
      "│                   └── e6ddaf7007cb10fd2fb0a8d825c2afa9576f38ec48e89e8a653b709f992081b6\n",
      "└── e2c19bfac03bc6c4e7da216e90158ebb93a71419526a1c2c749fbe2ffdb1abfe\n",
      "    ├── c97a060d6a5f82a8e1c018c85eb912fe3d1c2c65543954e900931e8557fc2f36\n",
      "    │   ├── 505c5a6ecc4f671e934b6247706998834a0aaa4fc080477c72a9a5035aa9dc94\n",
      "    │   │   ├── eb976a85e6aaf30c2dd92b9975d3624a20634bb5f368a99f90d212de9fec2477\n",
      "    │   │   │   ├── 512d16e8921c4a8d0c28c48d4bc699a350b70e4811503c940354eb34baa65bec\n",
      "    │   │   │   │   ├── 0cfd1dafb6a6e17edbb48fe9325c2087856426c1af72fec85b7db40fa3e42fd9\n",
      "    │   │   │   │   └── e46db034c1d3da6e27b27f9064ccaee9ed0c681958ec01ac24b9939d560b2678\n",
      "    │   │   │   └── b7be6194b261c747cf180436c8e4032fd16650536676bd3d6a8345c07915819e\n",
      "    │   │   │       ├── a6b43b767adc64f75ba888671558ef5c14f9f90031572028ee20c841e679604e\n",
      "    │   │   │       └── 62d86252b4e2da493add9daaa8592643983ad2cbb778cc70de2f7f89eb3960f0\n",
      "    │   │   └── 21893d0d4358f51395ddb8d9486b162527cfed710064821704598f5ca29df8cd\n",
      "    │   │       ├── b2a88b56444697040e5ae055793f524727452b40d1919b9c2dc7ac7157bf9aaf\n",
      "    │   │       │   ├── da67fbb93a7bcdd50f17d8e845c78c4eb5ce06a1df817866fdf78a6159fd7fd7\n",
      "    │   │       │   └── 7d823aece4395ee62a0b49c8458e66e202bd1fdfdd5f142903b5abaa3e611600\n",
      "    │   │       └── c06e563e1f395899cde5b92f747635062b9bbadd2db60f521ba6cd25eb04f545\n",
      "    │   │           ├── cc23bed6f86b24dfc932383835231fd6f0f62fec355975f523da70ef253d3fce\n",
      "    │   │           └── fa90fc385bd1fcbc29f5d3e647a84a09ff25ca7723f28beb325f339ac1a0d1e3\n",
      "    │   └── 9672f71b8f2081c1ab309e5ce4938b1c4a830cbccdf3c5a73521c5a3b2348210\n",
      "    │       ├── 6007bbd4a3a4f101bb88cc6a5de6c10db85385b81d3df897363824ddb76179e0\n",
      "    │       │   ├── 9782725774f43e94690bcdd895a04077ba9139e9700c0aa47cfaca311b9a79f2\n",
      "    │       │   │   ├── 4ace76ed71eb06e031a6908126a865721f4d96b7e7a7fc48cf6b22223478476e\n",
      "    │       │   │   └── 80e5576b802ea761a3fd39d15e30bebfbd1af9ba758ceb7a72575f68be6a68ca\n",
      "    │       │   └── faae4fd0e6772ab7c43a4048aae83a52d14c8ba84572be1f48972af9abd18612\n",
      "    │       │       ├── 9acd8e7ed1e8dd44056189201ca4ff74904cb1fdd555269ca12fff647a33a4f3\n",
      "    │       │       └── 728dbc00e0911c0dc7cb00ad297e476645ccb0c3dae51af409366ff924a72ed7\n",
      "    │       └── ce1954f5533165798f8b18a8a9aa1649024c7ef05314c95035d5a8eada19fefe\n",
      "    │           ├── c0546db2532e864b07553603f5f5b420cffdefb279dee2b53aadb18fefb3026a\n",
      "    │           │   ├── b818ff3dcbf787b9a42abbc30745ae185328394c70efba76167a217a702579b6\n",
      "    │           │   └── aaf0caf170d2ee39e898e2dc1e3b7f8c2e4ee5a46406732cf7190412d40e732b\n",
      "    │           └── 72cc3f542f3d4f9810540928728e39c372da0315b8b09924bd7ce7ae2a18c6cb\n",
      "    │               ├── d4153339d81c5f4cfd4cf09dbe48014066e5b648782b377adfff111acc2a7805\n",
      "    │               └── 7bdb70e506657fe3a2979f093f66db9b868818456fcd723f4605d2876c9bd00f\n",
      "    └── da8ed405e84fcf94c1124d0b74a8a8ccd503faa0e4e43655c1412b38168c42d1\n",
      "        ├── be7d9113ab63c765cf7b478b998594c5c466984718e36a09706fa3c780b3eeb2\n",
      "        │   ├── 8f65cbf7207071014ad08a381b9fde716a1bcbfbc9aebeab399d1f8d0e12e057\n",
      "        │   │   ├── 3b4efdccc886c6387a4aa2d32bee4450b74f5c3bce4911ea8c793f67edec8aed\n",
      "        │   │   │   ├── 8c2461b2edffceb27de6d9f9325784fba06b7edece1854bbf9cb9ce046a57b11\n",
      "        │   │   │   └── d3b7706d79b4947049b321c157a3b869cd43af0f04bb749ab2373854bd938aab\n",
      "        │   │   └── 886e1da24cd8c0e93c15b28ac3fe4d028c711b6fb55a127a98a5e7acc3e6bd89\n",
      "        │   │       ├── 9db52ae114df913b39cbac9e9bdb51b815404559739a261bd412f9f446322fa1\n",
      "        │   │       └── 0651543f20ee2d1317f6f41c08aefea6b419471742632382eaa5bad6dab9d932\n",
      "        │   └── fbb604ee38f954132af5d84ea23033730400e7946c1029c0c12d56e7e68fa183\n",
      "        │       ├── 138f344546cf8df95e32afc06d954c0df8506027c32da0a29e46f022ef5d3082\n",
      "        │       │   ├── e70a8c4eaeca38f6ea557322d8b1cdf1ffc139bf10d382580511f4b4a45f7983\n",
      "        │       │   └── b4d03990b09980b3073f04b70436afd2e6911bc55ab30c314656e334adad9ba6\n",
      "        │       └── ccfd3db208c635610d5a87e29283fd89c608131cc118fa96dec091d118cd7544\n",
      "        │           ├── 83becb16630c60e4af98efe3340a696b1b3eb6a72ba59c42a3f73b1f4c6e3884\n",
      "        │           └── 7ffd097da263cbee2d9b27b2819819c5360969976a2138bbf929323004c45859\n",
      "        └── 47d2a51860898891ced63753d863f054553eaa93293b1614b7cfcddec3a3c85d\n",
      "            ├── 5dcd5d9114660ecd0ec13f189fbac433b0c9cd1a826388b6114e73a3ef4650cd\n",
      "            │   ├── 0c26778fb0af2c5455397c88864fa39b9c43ba7b4a26cf4e58b05db5cb6baf0b\n",
      "            │   │   ├── 9fe3693df28a85698141bb47630fa91db59da4c04536069bd1629f2055fb910a\n",
      "            │   │   └── 7e92a9bc054df1dd15f64f7db059498d820767a4f9ed9a71d65a4d523b4fd816\n",
      "            │   └── 69bfaf282e1d021cc429e6d977c71022f0d7c1c4eec09c8b65c1f3df294f9b05\n",
      "            │       ├── d7d13183efcc720e8d1c6a40aa857daae2268fd47aaff5f6c91c0d218c9a7ba7\n",
      "            │       └── a56617d3b8b45af87936e0a3eed3cd774578eff7328fb30df5bab1eec4e1b77c\n",
      "            └── 3ca7d827076945f83a856b0271b767034e00042bc37eb64144d4efa62e58d972\n",
      "                ├── ec893d6b57cc964cf9b56007ef3bb17a5d41a949d728598719eaf6dededde4a9\n",
      "                │   ├── 10c8a22876dfd4455a7a266d5fc034ef595ae6e00a64cec134d39347524806a4\n",
      "                │   └── bc063715c9fc0858c9403eb1d2b54eb1e2e676865470a3c178db8f7457600e16\n",
      "                └── 97abb129d6f82556e68db7d777dd1ffe2f12f8a91d521c515577ea2661230a21\n",
      "                    ├── 0c8fad478ecb5ca8323387b813a9964065559736965f373c006df5c9e6702f05\n",
      "                    └── 3d399d53494615ce092fbd0e5cb285ec552584d89dc644a0a2bb29f019b7c27f\n"
     ]
    }
   ],
   "source": [
    "voters = json.load(open(\"../voters.json\", \"r\"))\n",
    "voters_pk = [sha256(digest_ecc_pairs(voter.get('point_x'), voter.get('point_y'))) for voter in voters ]\n",
    "tree = MerkleTree(voters_pk, sha256)\n",
    "root = tree.merkle_root\n",
    "beautify(tree)"
   ]
  },
  {
   "cell_type": "code",
   "execution_count": 3,
   "metadata": {},
   "outputs": [],
   "source": [
    "index = 1\n",
    "voter = voters[index]\n",
    "leaf_digest = ' '.join(split_in_128(voters_pk[index]))\n",
    "root_digest = ' '.join(split_in_128(root))\n",
    "pk = (voter.get('point_x'), voter.get('point_y'))\n",
    "sk = voter.get('privatekey')\n",
    "merkle_path = lambda x: ' '.join(list(str(bin((2**3) + x)))[3:][::-1])\n",
    "path = merkle_path(index)\n",
    "proof = tree.get_proof(voters_pk[index])\n",
    "proof.hex_nodes\n",
    "path_digest = ' '.join([ ' '.join(split_in_128(nodes)) for nodes in proof.hex_nodes])"
   ]
  },
  {
   "cell_type": "code",
   "execution_count": 4,
   "metadata": {},
   "outputs": [
    {
     "name": "stdout",
     "output_type": "stream",
     "text": [
      "zokrates compute-witness -a 37900372652056733360230950809518388137 24186496965129810452205877824322867370 10340591486849500411597554648864878801016182183377116661129044131080489564292 14567100831092071334990535999461575549871942024819092424591682457990310750003 127701493367712430457058180578738495689 1 0 0 123747805351608569425204621146108226363 39540705688767375067091866303177216241 104372431967068795421462059261922043211 60447918172631368468733595847163093263 106271992542486917466246087527104529206 51707320939605894415659374384260965477 310734242443042663156803883748285097959 36954393248979672587276171610885061397 30231468116843299031460458899581254541 313322601785000411664333540810433604621 264938182274738528365996310512453087568 305713004463119668157376455683754052957 301410803981110790753454557104556052155 196264036610160135409392499996077698046\n"
     ]
    }
   ],
   "source": [
    "print(f'zokrates compute-witness -a {root_digest} {pk[0]} {pk[1]} {sk} {path} {leaf_digest} {path_digest}')"
   ]
  },
  {
   "cell_type": "code",
   "execution_count": 5,
   "metadata": {},
   "outputs": [
    {
     "data": {
      "text/plain": [
       "'92b34907ec85874ab6faadaa1fd32b3e86c1211c8fb9350a8bf13bd5caf1ff29'"
      ]
     },
     "execution_count": 5,
     "metadata": {},
     "output_type": "execute_result"
    }
   ],
   "source": [
    "y = sha256(digest_ecc_pairs('19510076639286324373897420360096365090640882341900164882210954095146741092293', '8949781301061640769592652182028272879867087978866630439801287750411451384681'))\n",
    "y"
   ]
  },
  {
   "cell_type": "code",
   "execution_count": 6,
   "metadata": {},
   "outputs": [
    {
     "ename": "TypeError",
     "evalue": "Unicode-objects must be encoded before hashing",
     "output_type": "error",
     "traceback": [
      "\u001b[0;31m---------------------------------------------------------------------------\u001b[0m",
      "\u001b[0;31mTypeError\u001b[0m                                 Traceback (most recent call last)",
      "\u001b[0;32m<ipython-input-6-2672282c6145>\u001b[0m in \u001b[0;36m<module>\u001b[0;34m\u001b[0m\n\u001b[0;32m----> 1\u001b[0;31m \u001b[0msha256\u001b[0m\u001b[0;34m(\u001b[0m\u001b[0my\u001b[0m\u001b[0;34m)\u001b[0m\u001b[0;34m\u001b[0m\u001b[0m\n\u001b[0m",
      "\u001b[0;32m<ipython-input-1-afb3660a0572>\u001b[0m in \u001b[0;36msha256\u001b[0;34m(preimage)\u001b[0m\n\u001b[1;32m     56\u001b[0m \u001b[0;34m\u001b[0m\u001b[0m\n\u001b[1;32m     57\u001b[0m \u001b[0;32mdef\u001b[0m \u001b[0msha256\u001b[0m\u001b[0;34m(\u001b[0m\u001b[0mpreimage\u001b[0m\u001b[0;34m)\u001b[0m\u001b[0;34m:\u001b[0m\u001b[0;34m\u001b[0m\u001b[0m\n\u001b[0;32m---> 58\u001b[0;31m     \u001b[0;32mreturn\u001b[0m \u001b[0mhashlib\u001b[0m\u001b[0;34m.\u001b[0m\u001b[0msha256\u001b[0m\u001b[0;34m(\u001b[0m\u001b[0mpreimage\u001b[0m\u001b[0;34m)\u001b[0m\u001b[0;34m.\u001b[0m\u001b[0mhexdigest\u001b[0m\u001b[0;34m(\u001b[0m\u001b[0;34m)\u001b[0m\u001b[0;34m\u001b[0m\u001b[0m\n\u001b[0m\u001b[1;32m     59\u001b[0m \u001b[0;34m\u001b[0m\u001b[0m\n",
      "\u001b[0;31mTypeError\u001b[0m: Unicode-objects must be encoded before hashing"
     ]
    }
   ],
   "source": [
    "sha256(y)"
   ]
  },
  {
   "cell_type": "code",
   "execution_count": null,
   "metadata": {},
   "outputs": [],
   "source": [
    "91847833570236376623353796409533612271 53990879501115389784347845798781762718 5842929490249618006411387357357002722851206627331830319918036917473800022005 4065416027434968355654707423863308181720678987952057222539105356689569090521 73889174636035300592545794598521332385 0 1 0 230693698526877058196338780935533734348 171056789775168333469288207686050104489 57209536325706169576629192264336696427 8533674579684692690101847098365701826 218090638228227334656199458837866843135 169415818512509058375165598930221355046 31285119470570527112885612411582285080 120684830344098502278140917627178183908"
   ]
  },
  {
   "cell_type": "code",
   "execution_count": null,
   "metadata": {},
   "outputs": [],
   "source": [
    "split_in_128('c349e0ece099380a599d2c5e2fa8d704dbbb3cad33edec9081207750d85c2dd3')"
   ]
  },
  {
   "cell_type": "code",
   "execution_count": null,
   "metadata": {},
   "outputs": [],
   "source": []
  },
  {
   "cell_type": "code",
   "execution_count": null,
   "metadata": {},
   "outputs": [],
   "source": [
    "print(f'{e} {f} {a} {b} 0 {c} {d}')"
   ]
  },
  {
   "cell_type": "code",
   "execution_count": null,
   "metadata": {},
   "outputs": [],
   "source": [
    "str(split_in_128(tree_root))"
   ]
  },
  {
   "cell_type": "code",
   "execution_count": null,
   "metadata": {},
   "outputs": [],
   "source": [
    "leafhash(9347197123955067502299347123172707107736742848980750471497860027091869058261, 17080122713037892253905384489626209271114931117541157439362422423664377917307)\n",
    "\n"
   ]
  },
  {
   "cell_type": "code",
   "execution_count": null,
   "metadata": {},
   "outputs": [],
   "source": [
    "len('18108654401806847981431026731501438725632879398752240573157939653377929852131')"
   ]
  },
  {
   "cell_type": "code",
   "execution_count": null,
   "metadata": {},
   "outputs": [],
   "source": [
    "leafhash(5273592313522545669763239369737548972936122350299813356657043169565692410214, 4438891100753198311257417672345655531574574993160995424947811462420457314719)\n"
   ]
  },
  {
   "cell_type": "code",
   "execution_count": null,
   "metadata": {},
   "outputs": [],
   "source": [
    "leafhash(78500997768471140206194977071471243125152084370366652678202980359874644395177, 19467396431360704483580553484173217028284689943058940297520137226571781369538)\n"
   ]
  },
  {
   "cell_type": "code",
   "execution_count": null,
   "metadata": {},
   "outputs": [],
   "source": [
    "type(78500997768471140206194977071471243125152084370366652678202980359874644395177)"
   ]
  },
  {
   "cell_type": "code",
   "execution_count": null,
   "metadata": {},
   "outputs": [],
   "source": [
    "'''\n",
    "└─ 45193fd21ff8aa3309f72476546b40ef289e43e13b195557074c4c043f5fbc9e\n",
    "   ├─ 38248f1953dce38d18c9c8008b59562275fa88398003941c3f318fb48840fe54\n",
    "   │  ├─ a412baa4afe9d746f793d32ae25d8bff7f744cbf3565cf0af1560ee7c3c35026\n",
    "   │  │  ├─ 92b34907ec85874ab6faadaa1fd32b3e86c1211c8fb9350a8bf13bd5caf1ff29\n",
    "   │  │  └─ 5d18f5dbfb0469a7136a3f3f95f46b3b1dbf434e1f9d95574ed8d40f8a40d0f1\n",
    "   │  └─ 411421fa567a310aec47f56965e2074c5dbfed12a0ec19aaa7f08f149addb6b4\n",
    "   │     ├─ ad8dfd7d9441a9c44a796a319cf9a9cc80b056e06b7a3923cc20ce0c8ce1c4a9\n",
    "   │     └─ 2b0a27e9cf8c514a1f01f7b905d6646b066b86a40f87c8fad4277c35cf85eec2\n",
    "   └─ 17894b7aa5e52e75d1cbea9a822a05185acb0d882fe19eee11f9bd730ce3ece4\n",
    "      ├─ 7bd12d142e707ca4e0fef03283fcb84428bc9d09c5094c3d695091a4bb6adc1f\n",
    "      │  ├─ 369850511d58b5a40f57279d8ef1e18f84bfed2884ee463307a67077e4c75bf2\n",
    "      │  └─ 9f762e459a5c3c6130ddaa04efa3d9aaf29424e73cb079b4f99a651332b8935a\n",
    "      └─ 3bd093b55535e8ae2aac76beb51dacb2d09130e7a69678307795439fd2cfbb52\n",
    "         ├─ 6760fd62081bbc67ae0320d61122e54871d026be124f41e11df2336077a93c39\n",
    "         └─ 5bd9416d7cb4ff4560398e9d6b242fc3aaccea9c456038dcfb548a9ad8593945\n",
    "'''"
   ]
  },
  {
   "cell_type": "code",
   "execution_count": null,
   "metadata": {},
   "outputs": [],
   "source": [
    "import math \n",
    "math.ceil(math.log2(7000000000))"
   ]
  },
  {
   "cell_type": "code",
   "execution_count": 9,
   "metadata": {},
   "outputs": [
    {
     "data": {
      "text/plain": [
       "'4406f809d64c41ecbd98fb80ab68fd4b4a14cfb2d016ea6795704e3c7234e8b8'"
      ]
     },
     "execution_count": 9,
     "metadata": {},
     "output_type": "execute_result"
    }
   ],
   "source": [
    "y = sha256(digest_ecc_pairs('13412043483282205028692465366459305789772389093516445615271531226304853461263', '3576295512233143788842022965590338929127328944971266381188454083968422592379'))\n",
    "y"
   ]
  },
  {
   "cell_type": "code",
   "execution_count": 13,
   "metadata": {},
   "outputs": [
    {
     "data": {
      "text/plain": [
       "88331537686847846259270338552833196608044675240747528490374382250230260968915"
      ]
     },
     "execution_count": 13,
     "metadata": {},
     "output_type": "execute_result"
    }
   ],
   "source": [
    "int('c349e0ece099380a599d2c5e2fa8d704dbbb3cad33edec9081207750d85c2dd3', 16)"
   ]
  },
  {
   "cell_type": "code",
   "execution_count": 15,
   "metadata": {},
   "outputs": [
    {
     "data": {
      "text/plain": [
       "('44135548363962901794514143437031060387',\n",
       " '175038216492153783294630230995830256189')"
      ]
     },
     "execution_count": 15,
     "metadata": {},
     "output_type": "execute_result"
    }
   ],
   "source": [
    "split_in_128('2134328a283a9c8e0df16b240f1db3a383af225e90793ccfb008466baa1f323d')"
   ]
  },
  {
   "cell_type": "code",
   "execution_count": 11,
   "metadata": {},
   "outputs": [
    {
     "data": {
      "text/plain": [
       "88462368426125147033965809988296548764577992207786904347787149435325934037410"
      ]
     },
     "execution_count": 11,
     "metadata": {},
     "output_type": "execute_result"
    }
   ],
   "source": [
    "combine_128s(259967535863175008033691892556468359285, 324578565061894263491410467986673068450)"
   ]
  },
  {
   "cell_type": "code",
   "execution_count": null,
   "metadata": {},
   "outputs": [],
   "source": [
    "./zokrates compute-witness -a 259583058875839081467513920566426392324 292073121256562291064687727022213705171 5842929490249618006411387357357002722851206627331830319918036917473800022005 4065416027434968355654707423863308181720678987952057222539105356689569090521 73889174636035300592545794598521332385 0 1 0 0 0 0 230693698526877058196338780935533734348 171056789775168333469288207686050104489 57209536325706169576629192264336696427 8533674579684692690101847098365701826 218090638228227334656199458837866843135 169415818512509058375165598930221355046 31285119470570527112885612411582285080 120684830344098502278140917627178183908 143582136781518482116092672452206168311 55090943354898015449275357837408858394 226041844053829017151961694854913952320 52789208171557677702544054805330707195 44135548363962901794514143437031060387 175038216492153783294630230995830256189\n"
   ]
  }
 ],
 "metadata": {
  "kernelspec": {
   "display_name": "Python 3",
   "language": "python",
   "name": "python3"
  },
  "language_info": {
   "codemirror_mode": {
    "name": "ipython",
    "version": 3
   },
   "file_extension": ".py",
   "mimetype": "text/x-python",
   "name": "python",
   "nbconvert_exporter": "python",
   "pygments_lexer": "ipython3",
   "version": "3.6.5"
  }
 },
 "nbformat": 4,
 "nbformat_minor": 2
}

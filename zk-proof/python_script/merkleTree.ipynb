{
 "cells": [
  {
   "cell_type": "code",
   "execution_count": 1,
   "metadata": {},
   "outputs": [],
   "source": [
    "import hashlib\n",
    "from bitarray import bitarray\n",
    "from Cryptodome.Util import number\n",
    "from merklelib import MerkleTree\n",
    "\n",
    "# a sample hash function\n",
    "# you can also omit it and the default hash function will be used\n",
    "def split_in_128(value):\n",
    "    unpadded = list(str(bin(value)[2:]))\n",
    "    padded = \"\".join(map(str, [0] * (256 - len(unpadded)) + unpadded))\n",
    "    value1, value2 = padded[:128], padded[128:]\n",
    "    return int(value1, 2), int(value2, 2)\n",
    "\n",
    "def printhash(value):\n",
    "    print(f'''\n",
    "    {'-' * 20}\n",
    "    number: {value}\n",
    "    hexdigest: {hex(value)}\n",
    "    number size: {number.size(value)}\n",
    "    128 pairs: {split_in_128(value)}\n",
    "    ''')\n",
    "    \n",
    "def unpack256(value):\n",
    "    return (value).to_bytes(32, byteorder='big')\n",
    "\n",
    "def unpack512(value):\n",
    "    return (value).to_bytes(64, byteorder='big')\n",
    "\n",
    "def combine_128s(a, b):\n",
    "    return (a << 128) + b\n",
    "    \n",
    "def leafhash(lhs, rhs):\n",
    "    preimage = unpack256(lhs) +  unpack256(rhs)\n",
    "    hex_hash = hashlib.sha256(preimage).hexdigest()\n",
    "    hex_num = int(hex_hash,16)\n",
    "    printhash(hex_num)\n",
    "    return hex_num\n",
    "\n",
    "def treehash(lhs, rhs):\n",
    "    preimage = unpack512(lhs + rhs)\n",
    "    hex_hash = hashlib.sha256(preimage).hexdigest()\n",
    "    hex_num = int(hex_hash,16)\n",
    "    printhash(hex_num)\n",
    "    return hex_num\n",
    "\n",
    "def format_barray(barray):\n",
    "    barray_str = ''.join(barray)\n",
    "    hashnum = int(barray_str, 2)\n",
    "    printhash(hashnum)\n",
    "    return hashnum\n"
   ]
  },
  {
   "cell_type": "code",
   "execution_count": 2,
   "metadata": {},
   "outputs": [
    {
     "name": "stdout",
     "output_type": "stream",
     "text": [
      "254\n",
      "\n",
      "    --------------------\n",
      "    number: 89685364998030906426902553293848047120578154677247506650664740170569575157264\n",
      "    hexdigest: 0xc6481e22c5ff4164af680b8cfaa5e8ed3120eeff89c4f307c4a6faaae059ce10\n",
      "    number size: 256\n",
      "    128 pairs: (263561599766550617289250058199814760685, 65303172752238645975888084098459749904)\n",
      "    \n",
      "\n",
      "    --------------------\n",
      "    number: 89685364998030906426902553293848047120578154677247506650664740170569575157264\n",
      "    hexdigest: 0xc6481e22c5ff4164af680b8cfaa5e8ed3120eeff89c4f307c4a6faaae059ce10\n",
      "    number size: 256\n",
      "    128 pairs: (263561599766550617289250058199814760685, 65303172752238645975888084098459749904)\n",
      "    \n",
      "\n",
      "    --------------------\n",
      "    number: 111109925611824843164212799849330761292948257037696933205019304127221294824267\n",
      "    hexdigest: 0xf5a5fd42d16a20302798ef6ed309979b43003d2320d9f0e8ea9831a92759fb4b\n",
      "    number size: 256\n",
      "    128 pairs: (326522724692461750427768532537390503835, 89059515727727869117346995944635890507)\n",
      "    \n",
      "\n",
      "    --------------------\n",
      "    number: 111109925611824843164212799849330761292948257037696933205019304127221294824267\n",
      "    hexdigest: 0xf5a5fd42d16a20302798ef6ed309979b43003d2320d9f0e8ea9831a92759fb4b\n",
      "    number size: 256\n",
      "    128 pairs: (326522724692461750427768532537390503835, 89059515727727869117346995944635890507)\n",
      "    \n"
     ]
    }
   ],
   "source": [
    "c = 20075373234943686845167158285967784892467090849631486320124245130906619831459\n",
    "p = 21888242871839275222246405745257275088548364400416034343698204186575808495619\n",
    "print(number.size(p))\n",
    "x = 10340591486849500411597554648864878801016182183377116661129044131080489564292\n",
    "y = 14567100831092071334990535999461575549871942024819092424591682457990310750003\n",
    "number.size(x + y)\n",
    "p > x + y\n",
    "x + y\n",
    "\n",
    "# test hash function\n",
    "padded_five = [\"1\",\"1\",\"0\",\"0\",\"0\",\"1\",\"1\",\"0\",\"0\",\"1\",\"0\",\"0\",\"1\",\"0\",\"0\",\"0\",\"0\",\"0\",\"0\",\"1\",\"1\",\"1\",\"1\",\"0\",\"0\",\"0\",\"1\",\"0\",\"0\",\"0\",\"1\",\"0\",\"1\",\"1\",\"0\",\"0\",\"0\",\"1\",\"0\",\"1\",\"1\",\"1\",\"1\",\"1\",\"1\",\"1\",\"1\",\"1\",\"0\",\"1\",\"0\",\"0\",\"0\",\"0\",\"0\",\"1\",\"0\",\"1\",\"1\",\"0\",\"0\",\"1\",\"0\",\"0\",\"1\",\"0\",\"1\",\"0\",\"1\",\"1\",\"1\",\"1\",\"0\",\"1\",\"1\",\"0\",\"1\",\"0\",\"0\",\"0\",\"0\",\"0\",\"0\",\"0\",\"1\",\"0\",\"1\",\"1\",\"1\",\"0\",\"0\",\"0\",\"1\",\"1\",\"0\",\"0\",\"1\",\"1\",\"1\",\"1\",\"1\",\"0\",\"1\",\"0\",\"1\",\"0\",\"1\",\"0\",\"0\",\"1\",\"0\",\"1\",\"1\",\"1\",\"1\",\"0\",\"1\",\"0\",\"0\",\"0\",\"1\",\"1\",\"1\",\"0\",\"1\",\"1\",\"0\",\"1\",\"0\",\"0\",\"1\",\"1\",\"0\",\"0\",\"0\",\"1\",\"0\",\"0\",\"1\",\"0\",\"0\",\"0\",\"0\",\"0\",\"1\",\"1\",\"1\",\"0\",\"1\",\"1\",\"1\",\"0\",\"1\",\"1\",\"1\",\"1\",\"1\",\"1\",\"1\",\"1\",\"1\",\"0\",\"0\",\"0\",\"1\",\"0\",\"0\",\"1\",\"1\",\"1\",\"0\",\"0\",\"0\",\"1\",\"0\",\"0\",\"1\",\"1\",\"1\",\"1\",\"0\",\"0\",\"1\",\"1\",\"0\",\"0\",\"0\",\"0\",\"0\",\"1\",\"1\",\"1\",\"1\",\"1\",\"0\",\"0\",\"0\",\"1\",\"0\",\"0\",\"1\",\"0\",\"1\",\"0\",\"0\",\"1\",\"1\",\"0\",\"1\",\"1\",\"1\",\"1\",\"1\",\"0\",\"1\",\"0\",\"1\",\"0\",\"1\",\"0\",\"1\",\"0\",\"1\",\"0\",\"1\",\"1\",\"1\",\"0\",\"0\",\"0\",\"0\",\"0\",\"0\",\"1\",\"0\",\"1\",\"1\",\"0\",\"0\",\"1\",\"1\",\"1\",\"0\",\"0\",\"1\",\"1\",\"1\",\"0\",\"0\",\"0\",\"0\",\"1\",\"0\",\"0\",\"0\",\"0\"]\n",
    "padded_zero = [\"1\",\"1\",\"1\",\"1\",\"0\",\"1\",\"0\",\"1\",\"1\",\"0\",\"1\",\"0\",\"0\",\"1\",\"0\",\"1\",\"1\",\"1\",\"1\",\"1\",\"1\",\"1\",\"0\",\"1\",\"0\",\"1\",\"0\",\"0\",\"0\",\"0\",\"1\",\"0\",\"1\",\"1\",\"0\",\"1\",\"0\",\"0\",\"0\",\"1\",\"0\",\"1\",\"1\",\"0\",\"1\",\"0\",\"1\",\"0\",\"0\",\"0\",\"1\",\"0\",\"0\",\"0\",\"0\",\"0\",\"0\",\"0\",\"1\",\"1\",\"0\",\"0\",\"0\",\"0\",\"0\",\"0\",\"1\",\"0\",\"0\",\"1\",\"1\",\"1\",\"1\",\"0\",\"0\",\"1\",\"1\",\"0\",\"0\",\"0\",\"1\",\"1\",\"1\",\"0\",\"1\",\"1\",\"1\",\"1\",\"0\",\"1\",\"1\",\"0\",\"1\",\"1\",\"1\",\"0\",\"1\",\"1\",\"0\",\"1\",\"0\",\"0\",\"1\",\"1\",\"0\",\"0\",\"0\",\"0\",\"1\",\"0\",\"0\",\"1\",\"1\",\"0\",\"0\",\"1\",\"0\",\"1\",\"1\",\"1\",\"1\",\"0\",\"0\",\"1\",\"1\",\"0\",\"1\",\"1\",\"0\",\"1\",\"0\",\"0\",\"0\",\"0\",\"1\",\"1\",\"0\",\"0\",\"0\",\"0\",\"0\",\"0\",\"0\",\"0\",\"0\",\"0\",\"1\",\"1\",\"1\",\"1\",\"0\",\"1\",\"0\",\"0\",\"1\",\"0\",\"0\",\"0\",\"1\",\"1\",\"0\",\"0\",\"1\",\"0\",\"0\",\"0\",\"0\",\"0\",\"1\",\"1\",\"0\",\"1\",\"1\",\"0\",\"0\",\"1\",\"1\",\"1\",\"1\",\"1\",\"0\",\"0\",\"0\",\"0\",\"1\",\"1\",\"1\",\"0\",\"1\",\"0\",\"0\",\"0\",\"1\",\"1\",\"1\",\"0\",\"1\",\"0\",\"1\",\"0\",\"1\",\"0\",\"0\",\"1\",\"1\",\"0\",\"0\",\"0\",\"0\",\"0\",\"1\",\"1\",\"0\",\"0\",\"0\",\"1\",\"1\",\"0\",\"1\",\"0\",\"1\",\"0\",\"0\",\"1\",\"0\",\"0\",\"1\",\"0\",\"0\",\"1\",\"1\",\"1\",\"0\",\"1\",\"0\",\"1\",\"1\",\"0\",\"0\",\"1\",\"1\",\"1\",\"1\",\"1\",\"1\",\"0\",\"1\",\"1\",\"0\",\"1\",\"0\",\"0\",\"1\",\"0\",\"1\",\"1\"]\n",
    "\n",
    "assert format_barray(padded_five) == leafhash(0, 5)\n",
    "assert format_barray(padded_zero) == leafhash(0, 0)"
   ]
  },
  {
   "cell_type": "code",
   "execution_count": 3,
   "metadata": {},
   "outputs": [],
   "source": [
    "pk = (str(10340591486849500411597554648864878801016182183377116661129044131080489564292)\n",
    "      , str(14567100831092071334990535999461575549871942024819092424591682457990310750003))\n",
    "sk = str(127701493367712430457058180578738495689)"
   ]
  },
  {
   "cell_type": "code",
   "execution_count": 4,
   "metadata": {},
   "outputs": [
    {
     "name": "stdout",
     "output_type": "stream",
     "text": [
      "\n",
      "    --------------------\n",
      "    number: 42109196106316939627359049747152562481204628433571261653570481959064075030769\n",
      "    hexdigest: 0x5d18f5dbfb0469a7136a3f3f95f46b3b1dbf434e1f9d95574ed8d40f8a40d0f1\n",
      "    number size: 255\n",
      "    128 pairs: (123747805351608569425204621146108226363, 39540705688767375067091866303177216241)\n",
      "    \n",
      "\n",
      "    --------------------\n",
      "    number: 111109925611824843164212799849330761292948257037696933205019304127221294824267\n",
      "    hexdigest: 0xf5a5fd42d16a20302798ef6ed309979b43003d2320d9f0e8ea9831a92759fb4b\n",
      "    number size: 256\n",
      "    128 pairs: (326522724692461750427768532537390503835, 89059515727727869117346995944635890507)\n",
      "    \n",
      "\n",
      "    --------------------\n",
      "    number: 89685364998030906426902553293848047120578154677247506650664740170569575157264\n",
      "    hexdigest: 0xc6481e22c5ff4164af680b8cfaa5e8ed3120eeff89c4f307c4a6faaae059ce10\n",
      "    number size: 256\n",
      "    128 pairs: (263561599766550617289250058199814760685, 65303172752238645975888084098459749904)\n",
      "    \n",
      "\n",
      "    --------------------\n",
      "    number: 21142809963628712137543187588700011063593796457584925347036677995249374323200\n",
      "    hexdigest: 0x2ebe6807995c988b9d292b535a81546078d93d753a42bf8d15ddcaf2d84be200\n",
      "    number size: 254\n",
      "    128 pairs: (62133134181886812829768166950054220896, 160635334427203623512968684759912538624)\n",
      "    \n"
     ]
    }
   ],
   "source": [
    "leafDigest = leafhash(x, y)\n",
    "l_1, l_2 = split_in_128(leafDigest)\n",
    "assert leafDigest == combine_128s(l_1, l_2)\n",
    "\n",
    "pathDigest0 = leafhash(0, 0)\n",
    "pd0_1, pd0_2 = split_in_128(pathDigest0)\n",
    "assert pathDigest0 == combine_128s(pd0_1, pd0_2)\n",
    "\n",
    "pathDigest1 = leafhash(0, 5)\n",
    "pd1_1, pd1_2 = split_in_128(pathDigest1)\n",
    "assert pathDigest1 == combine_128s(pd1_1, pd1_2)\n",
    "\n",
    "pathDigest2 = leafhash(0, 7)\n",
    "pd2_1, pd2_2 = split_in_128(pathDigest2)\n",
    "assert pathDigest2 == combine_128s(pd2_1, pd2_2)"
   ]
  },
  {
   "cell_type": "code",
   "execution_count": 5,
   "metadata": {},
   "outputs": [
    {
     "name": "stdout",
     "output_type": "stream",
     "text": [
      "\n",
      "    --------------------\n",
      "    number: 19053794382149428646011151054074259967247695083745939853369937676780738122262\n",
      "    hexdigest: 0x2a2010c1297a34c21e688d31d509329a53052b4701f21f0fa492f338eb4b1216\n",
      "    number size: 254\n",
      "    128 pairs: (55994069144865228322401559686429618842, 110352762903855378863843860946600268310)\n",
      "    \n",
      "\n",
      "    --------------------\n",
      "    number: 98185497375201814532797324616020809174812337513488548543275754978356515442187\n",
      "    hexdigest: 0xd91305abb95987f653f9c969f94a4c30537ac4e636d48d09b8ee239bdb020e0b\n",
      "    number size: 256\n",
      "    128 pairs: (288541243743065677620941918019988900912, 110963377458618109267028790611068194315)\n",
      "    \n",
      "\n",
      "    --------------------\n",
      "    number: 104223561982636764801498285708342372631755568568717773728474766327916101504808\n",
      "    hexdigest: 0xe66c72138685d9381d1d9dad0bddad3dc2531c98fd1fb2468650323de7da0f28\n",
      "    number size: 256\n",
      "    128 pairs: (306285520832915120451919103830098029885, 258301771850019700518850468320414142248)\n",
      "    \n"
     ]
    }
   ],
   "source": [
    "level0 = leafhash(leafDigest, pathDigest0)\n",
    "currentDigest0 = split_in_128(level0)\n",
    "assert level0 == combine_128s(currentDigest0[0], currentDigest0[1])\n",
    "\n",
    "level1 = leafhash(level0, pathDigest1)\n",
    "currentDigest1 = split_in_128(level1)\n",
    "assert level1 == combine_128s(currentDigest1[0], currentDigest1[1])\n",
    "\n",
    "level2 = leafhash(level1, pathDigest2)\n",
    "currentDigest2 = split_in_128(level2)\n",
    "assert level2 == combine_128s(currentDigest2[0], currentDigest2[1])"
   ]
  },
  {
   "cell_type": "code",
   "execution_count": 9,
   "metadata": {},
   "outputs": [
    {
     "name": "stdout",
     "output_type": "stream",
     "text": [
      "zokrates compute-witness -a 10340591486849500411597554648864878801016182183377116661129044131080489564292 14567100831092071334990535999461575549871942024819092424591682457990310750003 127701493367712430457058180578738495689 0 0 0 123747805351608569425204621146108226363 39540705688767375067091866303177216241 326522724692461750427768532537390503835 89059515727727869117346995944635890507 263561599766550617289250058199814760685 65303172752238645975888084098459749904 62133134181886812829768166950054220896 160635334427203623512968684759912538624 306285520832915120451919103830098029885 258301771850019700518850468320414142248\n"
     ]
    }
   ],
   "source": [
    "pair_to_str = lambda x: \" \".join([f'{i[0]} {i[1]}' for i in x])\n",
    "root_digest = pair_to_str([currentDigest2])\n",
    "digests = [(l_1, l_2), (pd0_1, pd0_2), (pd1_1, pd1_2), (pd2_1, pd2_2)]\n",
    "path_digests = pair_to_str(digests)\n",
    "directions = \" \".join(['0'] * (len(digests) - 1))\n",
    "#print(f'{root_digest}')\n",
    "print(f'zokrates compute-witness -a {pk[0]} {pk[1]} {sk} {directions} {path_digests} {root_digest}')"
   ]
  },
  {
   "cell_type": "code",
   "execution_count": 7,
   "metadata": {},
   "outputs": [],
   "source": [
    "# a list of all ASCII letters\n",
    "data = [\n",
    "    leafDigest,\n",
    "]\n",
    "\n",
    "# build a Merkle tree for that list\n",
    "# tree = MerkleTree(data, hashfunc)\n",
    "\n",
    "# # generate an audit proof the letter A\n",
    "# proof = tree.get_proof('A')\n",
    "\n",
    "# # now verify that A is in the tree\n",
    "# # you can also pass in the hash value of 'A'\n",
    "# # it will hash automatically if the user forgot to hash it\n",
    "# if tree.verify_leaf_inclusion('A', proof):\n",
    "#     print('A is in the tree')\n",
    "# else:\n",
    "#     exit('A is not in the tree')"
   ]
  },
  {
   "cell_type": "code",
   "execution_count": null,
   "metadata": {},
   "outputs": [],
   "source": []
  },
  {
   "cell_type": "code",
   "execution_count": 8,
   "metadata": {},
   "outputs": [
    {
     "ename": "NameError",
     "evalue": "name 'tree_root' is not defined",
     "output_type": "error",
     "traceback": [
      "\u001b[0;31m---------------------------------------------------------------------------\u001b[0m",
      "\u001b[0;31mNameError\u001b[0m                                 Traceback (most recent call last)",
      "\u001b[0;32m<ipython-input-8-26084bd20fa2>\u001b[0m in \u001b[0;36m<module>\u001b[0;34m\u001b[0m\n\u001b[0;32m----> 1\u001b[0;31m \u001b[0mtree_root\u001b[0m \u001b[0;34m==\u001b[0m \u001b[0mleafhash\u001b[0m\u001b[0;34m(\u001b[0m\u001b[0mleafDigest\u001b[0m\u001b[0;34m,\u001b[0m \u001b[0mpathDigest0\u001b[0m\u001b[0;34m)\u001b[0m\u001b[0;34m\u001b[0m\u001b[0m\n\u001b[0m",
      "\u001b[0;31mNameError\u001b[0m: name 'tree_root' is not defined"
     ]
    }
   ],
   "source": [
    "tree_root == leafhash(leafDigest, pathDigest0)"
   ]
  },
  {
   "cell_type": "code",
   "execution_count": null,
   "metadata": {},
   "outputs": [],
   "source": [
    "print(f'{e} {f} {a} {b} 0 {c} {d}')"
   ]
  },
  {
   "cell_type": "code",
   "execution_count": null,
   "metadata": {},
   "outputs": [],
   "source": [
    "str(split_in_128(tree_root))"
   ]
  },
  {
   "cell_type": "code",
   "execution_count": null,
   "metadata": {},
   "outputs": [],
   "source": []
  },
  {
   "cell_type": "code",
   "execution_count": null,
   "metadata": {},
   "outputs": [],
   "source": []
  }
 ],
 "metadata": {
  "kernelspec": {
   "display_name": "Python 3",
   "language": "python",
   "name": "python3"
  },
  "language_info": {
   "codemirror_mode": {
    "name": "ipython",
    "version": 3
   },
   "file_extension": ".py",
   "mimetype": "text/x-python",
   "name": "python",
   "nbconvert_exporter": "python",
   "pygments_lexer": "ipython3",
   "version": "3.6.5"
  }
 },
 "nbformat": 4,
 "nbformat_minor": 2
}
